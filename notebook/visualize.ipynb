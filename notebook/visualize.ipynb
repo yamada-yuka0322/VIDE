{
 "cells": [
  {
   "cell_type": "code",
   "execution_count": 42,
   "metadata": {},
   "outputs": [],
   "source": [
    "import vide.voidUtil as vu\n",
    "import matplotlib.pyplot as plt\n",
    "import matplotlib.cm as cm\n",
    "import numpy as np\n",
    "import sys\n",
    "import pickle"
   ]
  },
  {
   "cell_type": "code",
   "execution_count": 43,
   "metadata": {},
   "outputs": [],
   "source": [
    "class catalog(object):\n",
    "    \n",
    "    def __init__(self, sampledir):\n",
    "        self.sampleInfo = load_sample(sampledir)\n",
    "        self.partPos, self.boxLen, self.volNorm, self.isObesrvation, self.ranges, self.extraData = vu.loadPart(sampledir)\n",
    "        self.voids = load_voids(sampledir)\n",
    "        \n",
    "class void(object):\n",
    "    \n",
    "    def __init__(self):\n",
    "        self.macrocenter = None\n",
    "        self.radius = None\n",
    "        \n",
    "        \n",
    "        \n",
    "def load_sample(sampledir):\n",
    "    with open(sampledir+\"/sample_info.dat\", 'rb') as input:\n",
    "        sample = pickle.load(input)\n",
    "    return sample\n",
    "        \n",
    "def load_voids(sampledir):\n",
    "    voids = np.loadtxt(sampledir+\"/cleaned_void_big.out\")\n",
    "    voidlist = []\n",
    "    for i in range(len(voids)):\n",
    "        _void = void()\n",
    "        _void.macrocenter = voids[i][:3:]\n",
    "        _void.radius = voids[i][3]\n",
    "        voidlist.append(_void)\n",
    "    return voidlist\n",
    "        "
   ]
  },
  {
   "cell_type": "code",
   "execution_count": 9,
   "metadata": {},
   "outputs": [],
   "source": [
    "from vide.backend.classes import *\n",
    "import numpy as np\n",
    "import os\n",
    "import vide.apTools as vp\n",
    "from scipy.optimize import curve_fit\n",
    "from scipy.interpolate import interp1d\n",
    "\n",
    "\n",
    "# -----------------------------------------------------------------------------\n",
    "def NormProfile(catalog, rMin, rMax, nBins=10, dim=3):\n",
    "\n",
    "# builds a stacked radial density profile from the given catalog\n",
    "#   catalog: void catalog\n",
    "#   rMin: minimum void radius, in Mpc/h\n",
    "#   rMax: maximum void radius, in Mpc/h\n",
    "#   nBins: number of bins in profile (detaulf 10)\n",
    "#\n",
    "# returns:\n",
    "#   binCenters: array of radii in binned profile\n",
    "#   stackedProfile: the stacked density profile\n",
    "#   sigmas: 1-sigma uncertainty in each bin\n",
    "  periodicLine = getPeriodic(catalog.sampleInfo)\n",
    "\n",
    "  print(\"  Building particle tree...\")\n",
    "  partTree = vu.getPartTree(catalog)\n",
    "\n",
    "  print(\"  Selecting voids to stack...\")\n",
    "  voidsToStack = [v for v in catalog.voids if (v.radius > rMin and v.radius < rMax)]\n",
    "\n",
    "  if len(voidsToStack) == 0:\n",
    "    print(\"  No voids to stack!\")\n",
    "    return -1, -1, -1\n",
    "    \n",
    "  print(\"  Stacking voids...\")\n",
    "  allProfiles = []\n",
    "  for void in voidsToStack:\n",
    "    center = void.macrocenter\n",
    "    radius = void.radius\n",
    "    rMaxProfile = radius*3.0\n",
    "    \n",
    "    localPart = catalog.partPos[ vu.getBall(partTree, center, rMaxProfile) ]\n",
    "    shiftedPart = vu.shiftPart(localPart, center, periodicLine, catalog.ranges)\n",
    "\n",
    "    if(dim==3):\n",
    "      dist = np.sqrt(np.sum(shiftedPart[:,:]**2, axis=1))/radius\n",
    "      thisProfile, norm_radii = np.histogram(dist, bins=nBins, range=(0,3.0))\n",
    "      radii = norm_radii*radius\n",
    "      deltaV = 4*np.pi/3*(radii[1:]**3-radii[0:(radii.size-1)]**3)\n",
    "      thisProfile = np.float32(thisProfile)\n",
    "      thisProfile /= deltaV\n",
    "      thisProfile /= catalog.volNorm\n",
    "      allProfiles.append(thisProfile)\n",
    "    else:\n",
    "      dist = np.sqrt(np.sum(shiftedPart[:,0:2]**2, axis=1))\n",
    "      thisProfile, radii = np.histogram(dist, bins=nBins, range=(0,rMaxProfile))\n",
    "      deltaV = np.pi*(radii[1:]**2-radii[0:(radii.size-1)]**2)\n",
    "      thisProfile = np.float32(thisProfile)\n",
    "      thisProfile /= deltaV\n",
    "      thisProfile /= catalog.volNorm\n",
    "      allProfiles.append(thisProfile)\n",
    "    \n",
    "    binCenters = 0.5*(norm_radii[1:] + norm_radii[:-1])\n",
    "\n",
    "  nVoids = len(voidsToStack)\n",
    "  stackedProfile = np.mean(allProfiles, axis=0) \n",
    "  sigmas = np.std(allProfiles, axis=0) / np.sqrt(nVoids)\n",
    "  \n",
    "  return binCenters, stackedProfile, sigmas"
   ]
  },
  {
   "cell_type": "code",
   "execution_count": 13,
   "metadata": {},
   "outputs": [],
   "source": [
    "def Hamas(_r, delta_c, alpha, beta, _rs):\n",
    "    profile = delta_c*(1-(_r/_rs)**alpha)/(1+(_r)**beta)\n",
    "    return profile"
   ]
  },
  {
   "cell_type": "code",
   "execution_count": 45,
   "metadata": {},
   "outputs": [
    {
     "name": "stdout",
     "output_type": "stream",
     "text": [
      "    Loading particle data...\n"
     ]
    }
   ],
   "source": [
    "catalog = catalog(\"/mnt/data/yuka/output/vide/cola/Om15_2e12ss1.0/sample_0m15_2e12ss1.0_z0.00_d00\")"
   ]
  },
  {
   "cell_type": "code",
   "execution_count": 46,
   "metadata": {},
   "outputs": [
    {
     "name": "stdout",
     "output_type": "stream",
     "text": [
      "  Building particle tree...\n",
      "  Selecting voids to stack...\n",
      "  Stacking voids...\n"
     ]
    },
    {
     "name": "stderr",
     "output_type": "stream",
     "text": [
      "/tmp/ipykernel_2125363/900675692.py:27: UserWarning: FigureCanvasAgg is non-interactive, and thus cannot be shown\n",
      "  plt.show()\n"
     ]
    }
   ],
   "source": [
    "rmin = 25\n",
    "rmax = 30\n",
    "binCenters, mean, sigma = NormProfile(catalog, rmin, rmax, nBins=15, dim=3)\n",
    "lower = mean - sigma\n",
    "upper = mean + sigma\n",
    "plt.clf()\n",
    "vu.fill_between(binCenters, lower-1.0, upper-1.0,\n",
    "                color='black',\n",
    "                alpha=0.5,\n",
    "                )\n",
    "lineStyle = '-'\n",
    "    \n",
    "label = f\"radius {rmin} - {rmax}\" +\"h$^{-1}$Mpc\"\n",
    "plt.plot(binCenters, mean-1.0, lineStyle,\n",
    "         label=label, color='black',\n",
    "         linewidth=3)\n",
    "\n",
    "y = Hamas(binCenters, -0.9, 3.0, 10.0, 1.5)\n",
    "plt.plot(binCenters, y, '-.',color = 'green')\n",
    "\n",
    "plt.title(label)\n",
    "plt.xlabel(\"$r/r_v$\")\n",
    "plt.ylabel(r\"$\\rho/\\bar{\\rho}-1$\")\n",
    "\n",
    "plt.savefig(\"/mnt/data/yuka/output/vide/cola/figs/big2e12ss1.0/\"+f\"Om15_Norm_profile_{rmin}-{rmax}\"+\".png\", bbox_inches=\"tight\")\n",
    "plt.savefig(\"/mnt/data/yuka/output/vide/cola/figs/big2e12ss1.0/\"+f\"Om15_Norm_profile_{rmin}-{rmax}\"+\".pdf\", bbox_inches=\"tight\")\n",
    "plt.show()\n",
    "plt.clf()"
   ]
  },
  {
   "cell_type": "code",
   "execution_count": 47,
   "metadata": {},
   "outputs": [
    {
     "name": "stdout",
     "output_type": "stream",
     "text": [
      "Best fit parameters:\n",
      "$\\delta_c$ = -0.9257306173456836\n",
      "$\\alpha$   = 2.2970786957483122\n",
      "$\\beta$    = 10.67845488977299\n",
      "$r_s/r_v$     = 1.8724941978458762\n",
      "Uncertainties:\n",
      "$\\sigma_{\\delta_c}$ = 0.028081674419526664\n",
      "$\\sigma_{\\alpha}$   = 0.8290910556277244\n",
      "$\\sigma_{\\beta}$    = 1.4236434053141938\n",
      "$\\sigma_{r_s/r_v}$      = 0.45045572717847593\n"
     ]
    }
   ],
   "source": [
    "r_data = binCenters\n",
    "p0 = [-0.9, 3.0, 10.0, 1.5]\n",
    "y_obs = mean -1.0\n",
    "y_err = sigma\n",
    "\n",
    "params_opt, params_cov = curve_fit(\n",
    "    Hamas, r_data, y_obs, p0=p0, sigma=y_err, absolute_sigma=True,\n",
    "    maxfev=10000\n",
    ")\n",
    "\n",
    "# 最適フィット値\n",
    "print(\"Best fit parameters:\")\n",
    "print(r\"$\\delta_c$\"+f\" = {params_opt[0]}\")\n",
    "print(r\"$\\alpha$\" + f\"   = {params_opt[1]}\")\n",
    "print(r\"$\\beta$\" + f\"    = {params_opt[2]}\")\n",
    "print(r\"$r_s/r_v$\" + f\"     = {params_opt[3]}\")\n",
    "\n",
    "# パラメータの標準偏差（誤差）\n",
    "param_errors = np.sqrt(np.diag(params_cov))\n",
    "print(\"Uncertainties:\")\n",
    "print(r\"$\\sigma_{\\delta_c}$\" + f\" = {param_errors[0]}\")\n",
    "print(r\"$\\sigma_{\\alpha}$\" + f\"   = {param_errors[1]}\")\n",
    "print(r\"$\\sigma_{\\beta}$\" + f\"    = {param_errors[2]}\")\n",
    "print(r\"$\\sigma_{r_s/r_v}$\" + f\"      = {param_errors[3]}\")"
   ]
  },
  {
   "cell_type": "code",
   "execution_count": 49,
   "metadata": {},
   "outputs": [
    {
     "name": "stderr",
     "output_type": "stream",
     "text": [
      "/tmp/ipykernel_2125363/2594746031.py:24: UserWarning: FigureCanvasAgg is non-interactive, and thus cannot be shown\n",
      "  plt.show()\n"
     ]
    }
   ],
   "source": [
    "plt.plot(binCenters, mean-1.0, lineStyle,\n",
    "         label=\"obs\", color='black',\n",
    "         linewidth=3)\n",
    "\n",
    "vu.fill_between(binCenters, lower-1.0, upper-1.0,\n",
    "                color='black',\n",
    "                alpha=0.5,\n",
    "                )\n",
    "lineStyle = '-'\n",
    "\n",
    "#y = Hamas(binCenters, -0.75, 2.0, 8.3, 1.05)\n",
    "#plt.plot(binCenters, y, '--',color = 'blue', label = \"DM\",linewidth=1)\n",
    "\n",
    "y = Hamas(binCenters, params_opt[0], params_opt[1], params_opt[2], params_opt[3])\n",
    "plt.plot(binCenters, y, '-.',color = 'green', label = \"fitting\",linewidth=3)\n",
    "\n",
    "plt.title(label)\n",
    "plt.xlabel(\"$r/r_v$\")\n",
    "plt.ylabel(r\"$\\rho/\\bar{\\rho}-1$\")\n",
    "plt.legend()\n",
    "\n",
    "plt.savefig(\"/mnt/data/yuka/output/vide/cola/figs/big2e12ss1.0/\"+f\"Om15_Norm_profile_{rmin}-{rmax}\"+\".png\", bbox_inches=\"tight\")\n",
    "plt.savefig(\"/mnt/data/yuka/output/vide/cola/figs/big2e12ss1.0/\"+f\"Om15_Norm_profile_{rmin}-{rmax}\"+\".pdf\", bbox_inches=\"tight\")\n",
    "plt.show()\n",
    "plt.clf()"
   ]
  },
  {
   "cell_type": "code",
   "execution_count": null,
   "metadata": {},
   "outputs": [],
   "source": []
  }
 ],
 "metadata": {
  "kernelspec": {
   "display_name": "Python (Vide)",
   "language": "python",
   "name": "vide"
  },
  "language_info": {
   "codemirror_mode": {
    "name": "ipython",
    "version": 3
   },
   "file_extension": ".py",
   "mimetype": "text/x-python",
   "name": "python",
   "nbconvert_exporter": "python",
   "pygments_lexer": "ipython3",
   "version": "3.10.12"
  }
 },
 "nbformat": 4,
 "nbformat_minor": 2
}
